{
  "nbformat": 4,
  "nbformat_minor": 0,
  "metadata": {
    "colab": {
      "name": "BMS-Kaggle.ipynb",
      "provenance": [],
      "collapsed_sections": [],
      "toc_visible": true,
      "mount_file_id": "1VwsOSacSFGjhcjlsx_7Y5qI4zCmx84ug",
      "authorship_tag": "ABX9TyNMLPfLvSY2NSVwQFEM0b4k",
      "include_colab_link": true
    },
    "kernelspec": {
      "display_name": "Python 3",
      "name": "python3"
    },
    "language_info": {
      "name": "python"
    },
    "accelerator": "GPU"
  },
  "cells": [
    {
      "cell_type": "markdown",
      "metadata": {
        "id": "view-in-github",
        "colab_type": "text"
      },
      "source": [
        "<a href=\"https://colab.research.google.com/github/pskaranth/encoder-decoder/blob/main/BMS_Kaggle.ipynb\" target=\"_parent\"><img src=\"https://colab.research.google.com/assets/colab-badge.svg\" alt=\"Open In Colab\"/></a>"
      ]
    },
    {
      "cell_type": "markdown",
      "metadata": {
        "id": "5KDJW9W7ESYz"
      },
      "source": [
        "#Data and Task\n",
        "The data is from a competition in Kaggle by Bristol-Myers Squibb :\n",
        "\n",
        "https://www.kaggle.com/c/bms-molecular-translation/data\n",
        "\n",
        "Task is to predict the chemical formula (Inchi Code) from a set of training images provided. (Inchi - International Chemical Identifier)\n",
        "\n",
        "<b>About the model</b>\n",
        "\n",
        ">There are millions of images in the training data and test data. Notebook utilizes GPU if available for faster execution. Also, have used just the training data due to memory constraints with GPU in colab.\n",
        "\n",
        ">Used a Encoder-Decoder architecture with attention for the model.\n",
        "\n",
        "<b>References</b>\n",
        "\n",
        "https://www.kaggle.com/yasufuminakama/inchi-resnet-lstm-with-attention-starter\n",
        "\n",
        "https://github.com/sgrvinod/a-PyTorch-Tutorial-to-Image-Captioning\n",
        "\n",
        "Padhai-Onefourthlabs for Attention mechanism.\n",
        "\n"
      ]
    },
    {
      "cell_type": "code",
      "metadata": {
        "colab": {
          "base_uri": "https://localhost:8080/"
        },
        "id": "JkvxJ4GrOyRU",
        "outputId": "f2855640-249c-4d43-b9fa-e9e1c2b7ad8f"
      },
      "source": [
        "#Downloaded Kaggle Dataset from the above \n",
        "%cd /content/drive/MyDrive/Kaggle/BristolMeyers/"
      ],
      "execution_count": null,
      "outputs": [
        {
          "output_type": "stream",
          "text": [
            "/content/drive/MyDrive/Kaggle/BristolMeyers\n"
          ],
          "name": "stdout"
        }
      ]
    },
    {
      "cell_type": "markdown",
      "metadata": {
        "id": "otp6Cdrq8e-4"
      },
      "source": [
        "# Loading the dataset"
      ]
    },
    {
      "cell_type": "code",
      "metadata": {
        "id": "L5nAaU7PO2kP",
        "colab": {
          "base_uri": "https://localhost:8080/"
        },
        "outputId": "41aea42d-77ba-4583-8f30-67ebdbc03367"
      },
      "source": [
        "#Load the Dataset\n",
        "%%time\n",
        "DATA_PATH = './bms-molecular-translation/'\n",
        "!mkdir {DATA_PATH}\n",
        "!unzip -q bms-molecular-translation.zip \"train/**/*\" -d '/content/bms-molecular-translation/'"
      ],
      "execution_count": null,
      "outputs": [
        {
          "output_type": "stream",
          "text": [
            "mkdir: cannot create directory ‘./bms-molecular-translation/’: File exists\n",
            "CPU times: user 2.05 s, sys: 348 ms, total: 2.4 s\n",
            "Wall time: 6min 22s\n"
          ],
          "name": "stdout"
        }
      ]
    },
    {
      "cell_type": "code",
      "metadata": {
        "id": "Nc_zDfOuO4yQ"
      },
      "source": [
        "!unzip -q bms-molecular-translation.zip \"train_labels.csv\" -d '/content/bms-molecular-translation/'"
      ],
      "execution_count": null,
      "outputs": []
    },
    {
      "cell_type": "code",
      "metadata": {
        "id": "NcTENyT5PC1u",
        "colab": {
          "base_uri": "https://localhost:8080/"
        },
        "outputId": "3bbf384c-1220-49c8-854f-e0a45b9de5a8"
      },
      "source": [
        "import cv2\n",
        "import matplotlib.pyplot as plt\n",
        "from PIL import Image\n",
        "import albumentations as A\n",
        "\n",
        "import pandas as pd\n",
        "import numpy as np\n",
        "import re\n",
        "\n",
        "from tqdm.auto import tqdm\n",
        "tqdm.pandas()\n",
        "\n",
        "import torch\n",
        "from torch.utils.data import DataLoader, Dataset\n",
        "import torch.nn as nn\n",
        "import torch.optim as optim\n",
        "from torch.autograd import Variable\n",
        "import torch.nn.functional as F\n",
        "\n",
        "from torchvision import models\n",
        "import torchvision\n",
        "import torchvision.transforms as transforms\n",
        "\n",
        "\n",
        "from torch.nn.utils.rnn import pad_sequence, pack_padded_sequence\n",
        "\n",
        "from IPython.display import clear_output\n",
        "\n",
        "# Instantiates the device to be used as GPU/CPU based on availability\n",
        "device = torch.device(\"cuda:0\" if torch.cuda.is_available() else \"cpu\")\n",
        "\n",
        "# Visualization tools\n",
        "import matplotlib.pyplot as plt\n",
        "import seaborn as sns\n",
        "from IPython.display import clear_output\n",
        "\n",
        "import random"
      ],
      "execution_count": null,
      "outputs": [
        {
          "output_type": "stream",
          "text": [
            "/usr/local/lib/python3.7/dist-packages/tqdm/std.py:658: FutureWarning: The Panel class is removed from pandas. Accessing it from the top-level namespace will also be removed in the next version\n",
            "  from pandas import Panel\n"
          ],
          "name": "stderr"
        }
      ]
    },
    {
      "cell_type": "code",
      "metadata": {
        "id": "o-SssvrUPHuN"
      },
      "source": [
        "train = pd.read_csv('/content/bms-molecular-translation/train_labels.csv')"
      ],
      "execution_count": null,
      "outputs": []
    },
    {
      "cell_type": "code",
      "metadata": {
        "colab": {
          "base_uri": "https://localhost:8080/"
        },
        "id": "nNemaMLWVFVK",
        "outputId": "bd1a39cb-8f2b-4a27-f54e-f24ee34de6d1"
      },
      "source": [
        "print(train.shape)"
      ],
      "execution_count": null,
      "outputs": [
        {
          "output_type": "stream",
          "text": [
            "(2424186, 2)\n"
          ],
          "name": "stdout"
        }
      ]
    },
    {
      "cell_type": "code",
      "metadata": {
        "colab": {
          "base_uri": "https://localhost:8080/",
          "height": 204
        },
        "id": "cvw5cdT6VGD0",
        "outputId": "3081b487-ccdd-49e2-c507-72384ff38a61"
      },
      "source": [
        "train.head()"
      ],
      "execution_count": null,
      "outputs": [
        {
          "output_type": "execute_result",
          "data": {
            "text/html": [
              "<div>\n",
              "<style scoped>\n",
              "    .dataframe tbody tr th:only-of-type {\n",
              "        vertical-align: middle;\n",
              "    }\n",
              "\n",
              "    .dataframe tbody tr th {\n",
              "        vertical-align: top;\n",
              "    }\n",
              "\n",
              "    .dataframe thead th {\n",
              "        text-align: right;\n",
              "    }\n",
              "</style>\n",
              "<table border=\"1\" class=\"dataframe\">\n",
              "  <thead>\n",
              "    <tr style=\"text-align: right;\">\n",
              "      <th></th>\n",
              "      <th>image_id</th>\n",
              "      <th>InChI</th>\n",
              "    </tr>\n",
              "  </thead>\n",
              "  <tbody>\n",
              "    <tr>\n",
              "      <th>0</th>\n",
              "      <td>000011a64c74</td>\n",
              "      <td>InChI=1S/C13H20OS/c1-9(2)8-15-13-6-5-10(3)7-12...</td>\n",
              "    </tr>\n",
              "    <tr>\n",
              "      <th>1</th>\n",
              "      <td>000019cc0cd2</td>\n",
              "      <td>InChI=1S/C21H30O4/c1-12(22)25-14-6-8-20(2)13(1...</td>\n",
              "    </tr>\n",
              "    <tr>\n",
              "      <th>2</th>\n",
              "      <td>0000252b6d2b</td>\n",
              "      <td>InChI=1S/C24H23N5O4/c1-14-13-15(7-8-17(14)28-1...</td>\n",
              "    </tr>\n",
              "    <tr>\n",
              "      <th>3</th>\n",
              "      <td>000026b49b7e</td>\n",
              "      <td>InChI=1S/C17H24N2O4S/c1-12(20)18-13(14-7-6-10-...</td>\n",
              "    </tr>\n",
              "    <tr>\n",
              "      <th>4</th>\n",
              "      <td>000026fc6c36</td>\n",
              "      <td>InChI=1S/C10H19N3O2S/c1-15-10(14)12-8-4-6-13(7...</td>\n",
              "    </tr>\n",
              "  </tbody>\n",
              "</table>\n",
              "</div>"
            ],
            "text/plain": [
              "       image_id                                              InChI\n",
              "0  000011a64c74  InChI=1S/C13H20OS/c1-9(2)8-15-13-6-5-10(3)7-12...\n",
              "1  000019cc0cd2  InChI=1S/C21H30O4/c1-12(22)25-14-6-8-20(2)13(1...\n",
              "2  0000252b6d2b  InChI=1S/C24H23N5O4/c1-14-13-15(7-8-17(14)28-1...\n",
              "3  000026b49b7e  InChI=1S/C17H24N2O4S/c1-12(20)18-13(14-7-6-10-...\n",
              "4  000026fc6c36  InChI=1S/C10H19N3O2S/c1-15-10(14)12-8-4-6-13(7..."
            ]
          },
          "metadata": {
            "tags": []
          },
          "execution_count": 7
        }
      ]
    },
    {
      "cell_type": "code",
      "metadata": {
        "id": "2S4Yzj1WVNIz",
        "colab": {
          "base_uri": "https://localhost:8080/",
          "height": 287
        },
        "outputId": "376860b2-984c-44e4-ab67-ed5b7ddb0777"
      },
      "source": [
        "image = cv2.imread('/content/bms-molecular-translation/train/0/0/0/000026b49b7e.png') #C19H22Br2N2O2\n",
        "plt.imshow(image)"
      ],
      "execution_count": null,
      "outputs": [
        {
          "output_type": "execute_result",
          "data": {
            "text/plain": [
              "<matplotlib.image.AxesImage at 0x7f30654025d0>"
            ]
          },
          "metadata": {
            "tags": []
          },
          "execution_count": 8
        },
        {
          "output_type": "display_data",
          "data": {
            "image/png": "[encoded data removed]",
            "text/plain": [
              "<Figure size 432x288 with 1 Axes>"
            ]
          },
          "metadata": {
            "tags": [],
            "needs_background": "light"
          }
        }
      ]
    },
    {
      "cell_type": "markdown",
      "metadata": {
        "id": "6587iJpRbu2n"
      },
      "source": [
        "#Encoding the target labels"
      ]
    },
    {
      "cell_type": "code",
      "metadata": {
        "id": "Hk37yYJ-PKO2"
      },
      "source": [
        "#InChI=1S/C15H22N4/c1-12(2)10-19(11-13-5-3-7-17-13)15-6-4-8-18-14(15)9-16/h4,6,8,12-13,17H,3,5,7,10-11H2,1-2\n",
        "#Converting Inchi codes to List\n",
        "def codetolist(InChI_):\n",
        "   i =InChI_.split('=')\n",
        "   j =i[1].split('/') \n",
        "\n",
        "   element_rep = []\n",
        "\n",
        "   temp= re.findall(r\"[A-Z][a-z]*|\\d+\", j[1]) #finds all elements matching the string for example'Aaa'\n",
        "   for i_ in temp:\n",
        "     element_rep.append(i_)\n",
        "        \n",
        "   for  layers in j[2:]:\n",
        "      #  print(layers)\n",
        "    \n",
        "     ele_sec = re.findall(r\"[A-Za-z]|\\d+|[-()+,]\", layers) #for sub layers\n",
        "     element_rep.append('/')\n",
        "     for j_ in ele_sec:      \n",
        "       element_rep.append(j_)    \n",
        "    \n",
        "  #  print(element_rep)\n",
        "   return element_rep"
      ],
      "execution_count": null,
      "outputs": []
    },
    {
      "cell_type": "code",
      "metadata": {
        "id": "jobhag3DPL-j"
      },
      "source": [
        "def convertToLabel(train_label):\n",
        "  numcodes=set()  \n",
        "  elementCodes= []\n",
        "  code = {'H'\t, 'He',\t 'Li',\t 'Be',\t 'B'\t, 'C'\t, 'N'\t, 'O'\t, 'F'\t, 'Ne',\t 'Na',\t 'Mg',\t\n",
        "'Al',\t 'Si',\t 'P'\t ,    'S'\t ,    'Cl',\t 'Ar',\t 'K'\t ,    'Ca',\t 'Sc',\t 'Ti',\t\n",
        "'V'\t ,    'Cr',\t 'Mn',\t 'Fe',\t 'Co',\t 'Ni',\t 'Cu',\t 'Zn',\t 'Ga',\t 'Ge',\t\n",
        "'As',\t 'Se',\t 'Br',\t 'Kr',\t 'Rb',\t 'Sr',\t 'Y'\t ,    'Zr',\t 'Nb',\t 'Mo',\t\n",
        "'Tc',\t 'Ru',\t 'Rh',\t 'Pd',\t 'Ag',\t 'Cd',\t 'In',\t 'Sn',\t 'Sb',\t 'Te',\t 'I'\t ,  \n",
        " 'Xe',\t 'Cs',\t 'Ba',\t 'La',\t 'Ce',\t 'Pr',\t 'Nd',\t 'Pm',\t 'Sm',\t 'Eu',\t 'Gd',\t\n",
        "'Tb',\t 'Dy',\t 'Ho',\t 'Er',\t 'Tm',\t 'Yb',\t 'Lu',\t 'Hf',\t 'Ta',\t 'W'\t ,   \n",
        "'Re',\t 'Os',\t 'Ir',\t 'Pt',\t 'Au',\t 'Hg',\t 'Tl',\t 'Pb',\t 'Bi',\t 'Po',\t 'At',\t\n",
        "'Rn',\t 'Fr',\t 'Ra',\t 'Ac',\t 'Th',\t 'Pa',\t 'U'\t ,    'Np',\t 'Pu',\t 'Am',\t\n",
        "'Cm',\t 'Bk',\t 'Cf',\t 'Es',\t 'Fm',\t 'Md',\t 'No',\t 'Lr',\t 'Rf',\t 'Db',\t 'Sg',\t\n",
        "'Bh',\t 'Hs',\t 'Mt',\t 'Ds',\t 'Rg',\t 'Cn',\t 'Uut' ,\t 'Fl' ,\t\t'Uup', 'Lv',\t\n",
        "'Uus',\t 'Uuo'}\n",
        "  numcodes.update({'sop'})\n",
        "  numcodes.update({'-pad-'})\n",
        "  numcodes.update(code) \n",
        "  numcodes.update({'/'}) # representing each layers\n",
        "\n",
        "  for label in train_label:\n",
        "   numcodes.update(codetolist(label))\n",
        "\n",
        "  elementCodes = list(numcodes)\n",
        "  elementCodes.append('eop')\n",
        "  return elementCodes"
      ],
      "execution_count": null,
      "outputs": []
    },
    {
      "cell_type": "code",
      "metadata": {
        "id": "oSxpw1kdPPy9"
      },
      "source": [
        "elementCodes = convertToLabel(train['InChI'])"
      ],
      "execution_count": null,
      "outputs": []
    },
    {
      "cell_type": "code",
      "metadata": {
        "id": "g9KNDVaoPR0y"
      },
      "source": [
        "def sequence_rep(InChI_list, numcodes, device = 'cpu'):   \n",
        "    rep = torch.zeros(len(InChI_list)+1).to(device)\n",
        "        \n",
        "    for code_index_, letter_ in enumerate(InChI_list):\n",
        "      # print(letter_)\n",
        "      pos = numcodes.index(letter_)\n",
        "      rep[0] = numcodes.index('sop')\n",
        "      rep[code_index_+1] = pos   \n",
        "    rep[len(InChI_list)] =   numcodes.index('eop')\n",
        "    return rep"
      ],
      "execution_count": null,
      "outputs": []
    },
    {
      "cell_type": "code",
      "metadata": {
        "id": "ljhJAn1kV47d"
      },
      "source": [
        "label = 'InChI=1S/C13H12BrF3N4OS/c14-8-4-9(23-6-8)12(22)18-5-11-20-19-10-3-7(13(15,16)17)1-2-21(10)11/h4,6-7H,1-3,5H2,(H,18,22)/t7-/m0/s1'\n",
        "listofcodes= codetolist(label)"
      ],
      "execution_count": null,
      "outputs": []
    },
    {
      "cell_type": "code",
      "metadata": {
        "colab": {
          "base_uri": "https://localhost:8080/"
        },
        "id": "orPeTNsMV5tK",
        "outputId": "077bd136-b7c1-44a7-e464-8f908c49b03f"
      },
      "source": [
        "label = 'InChI=1S/C13H12BrF3N4OS/c14-8-4-9(23-6-8)12(22)18-5-11-20-19-10-3-7(13(15,16)17)1-2-21(10)11/h4,6-7H,1-3,5H2,(H,18,22)/t7-/m0/s1'\n",
        "tensorRep = sequence_rep(listofcodes,elementCodes)\n",
        "print(tensorRep)"
      ],
      "execution_count": null,
      "outputs": [
        {
          "output_type": "stream",
          "text": [
            "tensor([157.,  74.,  28., 110., 223.,   9.,  40., 241.,  22., 144., 294.,  71.,\n",
            "         57., 271.,  94., 170., 247., 170., 144., 170., 138., 136.,  91., 170.,\n",
            "        222., 170., 247., 114., 223., 136.,  15., 114.,  47., 170., 214., 170.,\n",
            "        296., 170.,  49., 170.,  98., 170.,   0., 170., 241., 170., 163., 136.,\n",
            "         28., 136.,  26.,  86., 268., 114.,  66., 114., 148., 170.,  41., 170.,\n",
            "        204., 136.,   0., 114., 296.,  57., 135., 144.,  86., 222., 170., 163.,\n",
            "        110.,  86., 148., 170., 241.,  86., 214., 110.,  41.,  86., 136., 110.,\n",
            "         86.,  47.,  86.,  15., 114.,  57., 149., 163., 170.,  57., 246., 168.,\n",
            "         57., 111., 299.])\n"
          ],
          "name": "stdout"
        }
      ]
    },
    {
      "cell_type": "code",
      "metadata": {
        "id": "lXl8_xIaPU1Q"
      },
      "source": [
        "#Creating a column for file path for each of the images in train data frame.\n",
        "def get_train_file_path(image_id):\n",
        "    return \"/content/bms-molecular-translation/train/{}/{}/{}/{}.png\".format(\n",
        "        image_id[0], image_id[1], image_id[2], image_id \n",
        "    )\n",
        "\n",
        "train['file_path'] = train['image_id'].apply(get_train_file_path)"
      ],
      "execution_count": null,
      "outputs": []
    },
    {
      "cell_type": "code",
      "metadata": {
        "id": "sWbBkY7s-FUj"
      },
      "source": [
        "# Method for Train Dataset\n",
        "class TrainDataset(Dataset):\n",
        "    def __init__(self, df,  transform=None):\n",
        "        super().__init__()\n",
        "        self.df = df        \n",
        "        self.file_paths = df['file_path'].values\n",
        "        self.fix_transform = A.Compose([A.Transpose(p=1), A.VerticalFlip(p=1)])\n",
        "        self.labels = df['InChI'].values\n",
        "        self.transform = transform\n",
        "    \n",
        "    def __len__(self):\n",
        "        return len(self.df)\n",
        "    \n",
        "    def __getitem__(self, idx):\n",
        "        file_path = self.file_paths[idx]\n",
        "        # print(file_path)\n",
        "        image = cv2.imread(file_path)\n",
        "        image = cv2.cvtColor(image, cv2.COLOR_BGR2RGB)\n",
        "        # print(image.shape)     \n",
        "        h, w, _ = image.shape\n",
        "        # print(image.shape)\n",
        "        if h > w:\n",
        "            image = self.fix_transform(image=image)['image'] \n",
        "        img = Image.fromarray(image)       \n",
        "        if self.transform:\n",
        "          # print(img)\n",
        "          augmented = self.transform(img)    \n",
        "        # print(type(augmented))    \n",
        "        labels = self.labels[idx]\n",
        "        labelToList = codetolist(labels)\n",
        "        labelsToTensor = sequence_rep(labelToList,elementCodes,device)\n",
        "        return augmented,labelsToTensor, torch.LongTensor([len(labelsToTensor)])"
      ],
      "execution_count": null,
      "outputs": []
    },
    {
      "cell_type": "code",
      "metadata": {
        "id": "lJ8EMoCT-Jsm"
      },
      "source": [
        "def get_transforms(*, data):\n",
        "    \n",
        "    return transforms.Compose([\n",
        "    transforms.Resize([220,260]), # resizing the pics, also you can do a horizontal flip if needed.\n",
        "    transforms.ToTensor(),\n",
        "    transforms.Normalize((0.5, 0.5, 0.5), (0.5, 0.5, 0.5)),# for all r,g,b cahnnels, have a mean of 0.5 and standard deviation of 0.5\n",
        "    ])"
      ],
      "execution_count": null,
      "outputs": []
    },
    {
      "cell_type": "markdown",
      "metadata": {
        "id": "8PTsHTll8v6m"
      },
      "source": [
        "# Train Dataset"
      ]
    },
    {
      "cell_type": "code",
      "metadata": {
        "id": "GFuCgP1f-MmC"
      },
      "source": [
        "train_dataset = TrainDataset(train,  transform=get_transforms(data='train'))"
      ],
      "execution_count": null,
      "outputs": []
    },
    {
      "cell_type": "code",
      "metadata": {
        "colab": {
          "base_uri": "https://localhost:8080/",
          "height": 1000
        },
        "id": "EmqP86X7Wdpk",
        "outputId": "4b209777-5739-42a6-f4ed-d10bc0a39662"
      },
      "source": [
        "for i in range(3):\n",
        "  image,labels,label_lengths = train_dataset[i]\n",
        "  print(type(image))\n",
        "    \n",
        "  plt.imshow(image.transpose(0, 1).transpose(1, 2))\n",
        "  plt.title(f'label: {labels}')\n",
        "  plt.show() "
      ],
      "execution_count": null,
      "outputs": [
        {
          "output_type": "stream",
          "text": [
            "Clipping input data to the valid range for imshow with RGB data ([0..1] for floats or [0..255] for integers).\n"
          ],
          "name": "stderr"
        },
        {
          "output_type": "stream",
          "text": [
            "<class 'torch.Tensor'>\n"
          ],
          "name": "stdout"
        },
        {
          "output_type": "display_data",
          "data": {
            "image/png": "[encoded data removed]",
            "text/plain": [
              "<Figure size 432x288 with 1 Axes>"
            ]
          },
          "metadata": {
            "tags": [],
            "needs_background": "light"
          }
        },
        {
          "output_type": "stream",
          "text": [
            "Clipping input data to the valid range for imshow with RGB data ([0..1] for floats or [0..255] for integers).\n"
          ],
          "name": "stderr"
        },
        {
          "output_type": "stream",
          "text": [
            "<class 'torch.Tensor'>\n"
          ],
          "name": "stdout"
        },
        {
          "output_type": "display_data",
          "data": {
            "image/png": "[encoded data removed]",
            "text/plain": [
              "<Figure size 432x288 with 1 Axes>"
            ]
          },
          "metadata": {
            "tags": [],
            "needs_background": "light"
          }
        },
        {
          "output_type": "stream",
          "text": [
            "Clipping input data to the valid range for imshow with RGB data ([0..1] for floats or [0..255] for integers).\n"
          ],
          "name": "stderr"
        },
        {
          "output_type": "stream",
          "text": [
            "<class 'torch.Tensor'>\n"
          ],
          "name": "stdout"
        },
        {
          "output_type": "display_data",
          "data": {
            "image/png": "[encoded data removed]",
            "text/plain": [
              "<Figure size 432x288 with 1 Axes>"
            ]
          },
          "metadata": {
            "tags": [],
            "needs_background": "light"
          }
        }
      ]
    },
    {
      "cell_type": "markdown",
      "metadata": {
        "id": "gf31PskCTbSC"
      },
      "source": [
        "Pad Sequence:\n",
        "\n",
        "If the length of each sequences in a size 8 batch is different, padding sequence which results in the same length."
      ]
    },
    {
      "cell_type": "code",
      "metadata": {
        "id": "PqL6_2hePd8V"
      },
      "source": [
        "def bms_collate(batch):# collate \n",
        "    imgs, labels, label_lengths = [], [], []\n",
        "    for data_point in batch:\n",
        "        imgs.append(data_point[0])\n",
        "        labels.append(data_point[1])\n",
        "        label_lengths.append(data_point[2])\n",
        "    labels = pad_sequence(labels, batch_first=True, padding_value=elementCodes.index('-pad-'))\n",
        "    return torch.stack(imgs), labels, torch.stack(label_lengths).view(-1, 1)"
      ],
      "execution_count": null,
      "outputs": []
    },
    {
      "cell_type": "code",
      "metadata": {
        "colab": {
          "base_uri": "https://localhost:8080/"
        },
        "id": "CHlukJXVm1FB",
        "outputId": "559ca2d1-f1cf-4f22-fa03-1641620315e0"
      },
      "source": [
        "print(elementCodes.index('-pad-'))\n",
        "# elementCodes['-pad-']\n"
      ],
      "execution_count": null,
      "outputs": [
        {
          "output_type": "stream",
          "text": [
            "173\n"
          ],
          "name": "stdout"
        }
      ]
    },
    {
      "cell_type": "code",
      "metadata": {
        "id": "-BkXdserPfKK"
      },
      "source": [
        "def dataload(dataset, batch_size):\n",
        " tl  = DataLoader(dataset, batch_size, shuffle=True,collate_fn=bms_collate)\n",
        "\n",
        " \n",
        " for i,(imgs,inchiLabels,inchlength) in enumerate(tl): \n",
        "    # print(inchlength)\n",
        "      # print('next')\n",
        "    return imgs.to(device), inchiLabels.to(device),inchlength.to(device)"
      ],
      "execution_count": null,
      "outputs": []
    },
    {
      "cell_type": "code",
      "metadata": {
        "id": "J9J3B9jLJlMH"
      },
      "source": [
        "# imgtrain,inchiLabelstrain,_ = dataload(train_dataset,8)\n",
        "\n",
        "# for i, labels in enumerate(inchiLabelstrain):\n",
        "#   # print(labels)\n",
        "\n"
      ],
      "execution_count": null,
      "outputs": []
    },
    {
      "cell_type": "markdown",
      "metadata": {
        "id": "2-m-DWRUUPcB"
      },
      "source": [
        "#Encoder\n",
        "Encoder class takes the input image and converts them into a vector of  much smaller images using pre-trained CNN network. In this case, a pre-trained  resnet34 is being used. The last two layers are removed because this is not a classification task."
      ]
    },
    {
      "cell_type": "code",
      "metadata": {
        "id": "KilT3JqcPh-w"
      },
      "source": [
        " class Encoder(nn.Module):\n",
        "    \"\"\"\n",
        "    Encoder    \n",
        "    \"\"\"\n",
        "\n",
        "    def __init__(self, encoded_image_size=14):\n",
        "        super(Encoder, self).__init__()\n",
        "        self.enc_image_size = encoded_image_size\n",
        "\n",
        "        resnet = torchvision.models.resnet34(pretrained=True) \n",
        "\n",
        "        # Remove linear and pool layers (since we're not doing classification)\n",
        "        modules = list(resnet.children())[:-2]\n",
        "        self.resnet = nn.Sequential(*modules)\n",
        "        # Resize image to fixed size to allow input images of variable size\n",
        "        self.adaptive_pool = nn.AdaptiveAvgPool2d((encoded_image_size, encoded_image_size))\n",
        "\n",
        "    def forward(self, images):\n",
        "        \"\"\"\n",
        "        Forward propagation.\n",
        "        :param images: images, a tensor of dimensions (batch_size, 3, image_size, image_size)\n",
        "        :return: encoded images\n",
        "        \"\"\"       \n",
        "        out = self.resnet(images)  \n",
        "        out = self.adaptive_pool(out)  \n",
        "        out = out.permute(0, 2, 3, 1)  \n",
        "        return out"
      ],
      "execution_count": null,
      "outputs": []
    },
    {
      "cell_type": "markdown",
      "metadata": {
        "id": "5XY0HLRSVfFN"
      },
      "source": [
        "#Decoder Model with Attention\n",
        "Encoder output is obtained using the class above.\n",
        "Instead of feeding entire Encoder output to the decoder as input, only certain weights which are relevant are passed. This is computed using attention menchanism. The context vector obtained after passing through attention is then passed to the decoder cell as decoder input.\n"
      ]
    },
    {
      "cell_type": "code",
      "metadata": {
        "id": "EgbheWixfUpS"
      },
      "source": [
        "class Image_EncoderDecoder_Attention(nn.Module):\n",
        "    \n",
        "    def __init__(self, input_size, hidden_size,decoder_size, output_size,verbose=False):\n",
        "        super(Image_EncoderDecoder_Attention, self).__init__()\n",
        "      \n",
        "        self.hidden_size = hidden_size\n",
        "        self.output_size = output_size\n",
        "        self.decoder_size = decoder_size       \n",
        "        self.encoder_rnn_cell = Encoder()        \n",
        "        self.decoder_rnn_cell = nn.GRU(hidden_size*2, hidden_size)\n",
        "        \n",
        "        self.h2o = nn.Linear(hidden_size, output_size)\n",
        "        self.softmax = nn.LogSoftmax(dim=2)\n",
        "        \n",
        "        self.U = nn.Linear(input_size, self.hidden_size)\n",
        "        self.W = nn.Linear(self.decoder_size, self.hidden_size)\n",
        "        self.attn = nn.Linear(self.hidden_size, 1)        \n",
        "        self.out2hidden = nn.Linear(self.output_size, self.hidden_size)  \n",
        "        self.embedding = nn.Embedding(self.output_size, self.hidden_size) \n",
        "\n",
        "        self.init_h = nn.Linear(input_size, decoder_size)  \n",
        "        self.init_c = nn.Linear(input_size, decoder_size)  \n",
        "        self.drop = nn.Dropout(0.3)\n",
        "       \n",
        "        self.verbose = verbose\n",
        "        \n",
        "    def forward(self, input,captions, caption_lengths = None, device = 'cpu', ground_truth = None):\n",
        "      \n",
        "        # encoder                      \n",
        "        encoder_outputs = self.encoder_rnn_cell(input.to(device))\n",
        "        \n",
        "        batch_size = encoder_outputs.size(0)\n",
        "                \n",
        "        encoder_outputs =encoder_outputs.view(batch_size, -1, 512) \n",
        "        \n",
        "        # print('encoder_output shape', encoder_outputs.shape)\n",
        "                \n",
        "        h, c = self.init_hidden_state(encoder_outputs) \n",
        "        \n",
        "        decoder_state = h\n",
        "        # print('decoder_state shape',decoder_state.shape)\n",
        "       \n",
        "        decoder_input = torch.zeros(batch_size, 1, self.output_size).to(device)\n",
        "        # print('decoder_input', decoder_input.shape)\n",
        "\n",
        "        if caption_lengths== None: # For inference - when we dont know the length, although now have a different method - predict\n",
        "          max_len = len(elementCodes)\n",
        "        else:\n",
        "          max_len = caption_lengths[torch.argmax(caption_lengths)]-1\n",
        "\n",
        "        captions= captions.long()\n",
        "        embedding = self.embedding(captions)\n",
        "        # print(embedding.shape, \"embedding\")\n",
        "        \n",
        "        outputs = []\n",
        "                \n",
        "        U = self.U(encoder_outputs)\n",
        "        # print(U.shape, 'U.shape' )\n",
        "        predictions = torch.zeros(batch_size, max_len, 300).to(device)\n",
        "      \n",
        "        for i in range(max_len):\n",
        "            batch_size_t = sum([l > i for l in caption_lengths])\n",
        "                    \n",
        "            W = self.W(decoder_state[:batch_size_t])\n",
        "            # print('W shape', W.shape) #W shape torch.Size([8, 512]) torch.Size([8, 1, 512]) W.unsqueeze(1)\n",
        "            # print(U[:batch_size_t].shape,' u batch shape') #torch.Size([8, 196, 512])\n",
        "            \n",
        "            V = self.attn(torch.tanh(U[:batch_size_t] + W.unsqueeze(1)))            \n",
        "            # print('V', V.shape) # 8,196,1\n",
        "\n",
        "            attn_weights = F.softmax(V.squeeze(2), dim = 1) # probability which denotes importance of  the vector\n",
        "            \n",
        "            attn_applied =encoder_outputs[:batch_size_t] * attn_weights.unsqueeze(2) #multiplying probability with encoder outputs so that network pays attention to relevant vectors \n",
        "            attn_applied = attn_applied.sum(dim=1)\n",
        "                           \n",
        "            # print(embedding.shape, \"embedding\") #8 118 512        \n",
        "\n",
        "            decoder_input = torch.cat((embedding[:batch_size_t,i,:], attn_applied), dim=1).unsqueeze(0) #passing attn_applied to decoder instead of entire encoder outputs\n",
        "            # print(decoder_input.shape, 'decoder input shape')#([1, 8, 1024])\n",
        "        \n",
        "            out, decoder_state = self.decoder_rnn_cell(decoder_input, decoder_state[:batch_size_t].unsqueeze(0))               \n",
        "               \n",
        "            out = self.h2o(self.drop(decoder_state)) #drop out with probability 0.3\n",
        "            # out = self.h2o(decoder_state)            \n",
        "            out = self.softmax(out)   \n",
        "            predictions[:batch_size_t, i, :] = out\n",
        "            outputs.append(out)               \n",
        "\n",
        "            decoder_state = decoder_state.squeeze(0)   \n",
        "                 \n",
        "            decoder_input = out.permute(1,0,2)                \n",
        "        \n",
        "        return predictions\n",
        "\n",
        "    def predict(self, input, captions = None, caption_lengths = None, device = 'cpu', ground_truth = None):\n",
        "        encoder_outputs = self.encoder_rnn_cell(input.to(device))\n",
        "        \n",
        "        batch_size = encoder_outputs.size(0)\n",
        "                \n",
        "        encoder_outputs =encoder_outputs.view(batch_size, -1, 512)         \n",
        "               \n",
        "        h, c = self.init_hidden_state(encoder_outputs) \n",
        "        \n",
        "        decoder_state = h\n",
        "        # print('decoder_state shape',decoder_state.shape)\n",
        "       \n",
        "        decoder_input = torch.zeros(batch_size, 1, self.output_size).to(device)\n",
        "        # print('decoder_input', decoder_input.shape)\n",
        "\n",
        "        output_size = self.output_size\n",
        "\n",
        "        start_tokens = torch.ones(batch_size, dtype=torch.long).to(device) * elementCodes.index('sop')\n",
        "        embedding = self.embedding(start_tokens)\n",
        "        max_len = len(elementCodes)\n",
        "     \n",
        "        predictions = torch.zeros(batch_size, max_len, output_size).to(device)\n",
        "       \n",
        "        U = self.U(encoder_outputs)  \n",
        "        outputs = []\n",
        "\n",
        "        for i in range(max_len):\n",
        "            # print(i)\n",
        "            W = self.W(decoder_state)\n",
        "            V = self.attn(torch.tanh(U + W.unsqueeze(1)))\n",
        "\n",
        "            attn_weights = F.softmax(V.squeeze(2), dim = 1) \n",
        "            \n",
        "            attn_applied =encoder_outputs * attn_weights.unsqueeze(2) \n",
        "            attn_applied = attn_applied.sum(dim=1)\n",
        "\n",
        "            # print(embedding.shape,'embedding shape',attn_applied.shape,'attn_applied shape')\n",
        "            \n",
        "            decoder_input = torch.cat((embedding.squeeze(0), attn_applied), dim=1).unsqueeze(0)            \n",
        "            # print(decoder_input.shape,'decoder_input shape')\n",
        "            \n",
        "            out, decoder_state = self.decoder_rnn_cell(decoder_input, decoder_state.unsqueeze(0))                     \n",
        "               \n",
        "            out = self.h2o(self.drop(decoder_state))  \n",
        "            # out = self.h2o(decoder_state)            \n",
        "            out = self.softmax(out)   \n",
        "            # predictions[:, i, :] = out\n",
        "            predictions[:, i, :] = out\n",
        "            outputs.append(out)               \n",
        "\n",
        "            decoder_state = decoder_state.squeeze(0)   \n",
        "                 \n",
        "            decoder_input = out.permute(1,0,2) \n",
        "          \n",
        "            if np.argmax(out.detach().cpu().numpy()) == elementCodes.index('eop'):\n",
        "                print('eop')\n",
        "                break\n",
        "            embedding = self.embedding(torch.argmax(out, -1))\n",
        "        return predictions\n",
        "\n",
        "    def init_hidden_state(self, encoder_out):        \n",
        "        mean_encoder_out = encoder_out.mean(dim=1)        \n",
        "        h = self.init_h(mean_encoder_out) \n",
        "        c = self.init_c(mean_encoder_out)\n",
        "        return h, c"
      ],
      "execution_count": null,
      "outputs": []
    },
    {
      "cell_type": "markdown",
      "metadata": {
        "id": "wWN74dql9g3G"
      },
      "source": [
        "#Training the model"
      ]
    },
    {
      "cell_type": "code",
      "metadata": {
        "id": "ByqMc-fhPkxv"
      },
      "source": [
        "def train_batch_imgecd(net, opt, criterion, batch_size, device = 'cpu', teacher_force = True):\n",
        "   \n",
        "    net.train().to(device)\n",
        "    opt.zero_grad()\n",
        "    imgs, inchiLabels,inchilength = dataload(train_dataset,batch_size)\n",
        "   \n",
        "    inchiL, sort_ind = inchilength.squeeze(1).sort(dim=0, descending=True) #to get a 1 D dimension and can be used in pack padded sequence\n",
        "    inchiLb, sort_ind = inchiLabels.squeeze(1).sort(dim=0, descending=True)\n",
        "      \n",
        "    total_loss = 0\n",
        "    targets = inchiLabels[:,1:].long()\n",
        "   \n",
        "    decode_lengths = (inchilength - 1).tolist()\n",
        "    flatten_list = [j for sub in decode_lengths for j in sub]\n",
        "     \n",
        "    outputs = net(imgs,inchiLabels, inchilength, device, ground_truth = inchiLabels if teacher_force else None) \n",
        "\n",
        "    # caption= ''\n",
        "    # for index, output in enumerate(outputs.view(-1, len(elementCodes))):\n",
        "          \n",
        "    #       predicted_word_idx = torch.argmax(output)\n",
        "    #       caption +=elementCodes[predicted_word_idx]\n",
        "    # print(caption) \n",
        "    # print(targets.shape, 'targets shape') #[8, 118]\n",
        "    # print(outputs.shape, 'output shape') #[8, 118, 300]\n",
        "\n",
        "    #Pack padded sequence to avoid unecessary computations due to padding.\n",
        "    scores = pack_padded_sequence(outputs.view(batch_size,-1,len(elementCodes)), (inchiL-1).tolist(), batch_first=True).data\n",
        "    targets_p= pack_padded_sequence( targets, (inchiL-1).tolist(), batch_first=True).data\n",
        "\n",
        "    # loss = criterion(torch.stack(outputs).view(-1, len(elementCodes)), targets.view(-1))\n",
        "    # loss = criterion(outputs.view(-1, len(elementCodes)), targets.view(-1))\n",
        "    loss = criterion(scores,targets_p)\n",
        "\n",
        "    loss.backward()       \n",
        "    opt.step()    \n",
        "\n",
        "    return loss/batch_size"
      ],
      "execution_count": null,
      "outputs": []
    },
    {
      "cell_type": "code",
      "metadata": {
        "id": "vzxYtDVePmm-"
      },
      "source": [
        "def train_setup_imgecd(net, lr = 0.01, n_batches = 100, batch_size = 10, momentum = 0.9, display_freq=5, device = 'cpu'):\n",
        "    \n",
        "    net = net.to(device)\n",
        "    criterion = nn.NLLLoss(ignore_index = -1)\n",
        "    opt = optim.Adam(net.parameters(), lr=lr)\n",
        "    teacher_force_upto = n_batches//3\n",
        "    \n",
        "    loss_arr = np.zeros(n_batches + 1)\n",
        "   \n",
        "    \n",
        "    for i in range(n_batches):               \n",
        "        loss_arr[i+1] = (loss_arr[i]*i + train_batch_imgecd(net, opt, criterion, batch_size, device = device, teacher_force =True))/(i + 1)\n",
        "        \n",
        "        if i%display_freq == display_freq-1:\n",
        "            clear_output(wait=True)\n",
        "            \n",
        "            print('Iteration', i, 'Loss', loss_arr[i])\n",
        "            plt.figure()\n",
        "            plt.plot(loss_arr[1:i], '-*')\n",
        "            plt.xlabel('Iteration')\n",
        "            plt.ylabel('Loss')\n",
        "            plt.show()\n",
        "            print('\\n\\n')\n",
        "            \n",
        "    torch.save(net, 'model_cross.pt')\n",
        "    return loss_arr"
      ],
      "execution_count": null,
      "outputs": []
    },
    {
      "cell_type": "code",
      "metadata": {
        "id": "eErsfKtXMJkD"
      },
      "source": [
        "net = Image_EncoderDecoder_Attention(512, 512, 512,len(elementCodes),device)"
      ],
      "execution_count": null,
      "outputs": []
    },
    {
      "cell_type": "markdown",
      "metadata": {
        "id": "l-8fnLowOOcN"
      },
      "source": [
        "#Train Setup\n",
        "\n",
        "Due to GPU constraints, not able to train entire training data set."
      ]
    },
    {
      "cell_type": "code",
      "metadata": {
        "id": "Qm5Uv642PoB9",
        "colab": {
          "base_uri": "https://localhost:8080/",
          "height": 386
        },
        "outputId": "c12e49b5-9ae8-4642-c0ab-b969339203a6"
      },
      "source": [
        "train_setup_imgecd(net, lr=0.01, n_batches=1500, batch_size = 64, display_freq=100, device=device)"
      ],
      "execution_count": null,
      "outputs": [
        {
          "output_type": "stream",
          "text": [
            "Iteration 1499 Loss 0.019826164469122887\n"
          ],
          "name": "stdout"
        },
        {
          "output_type": "display_data",
          "data": {
            "image/png": "[encoded data removed]",
            "text/plain": [
              "<Figure size 432x288 with 1 Axes>"
            ]
          },
          "metadata": {
            "tags": [],
            "needs_background": "light"
          }
        },
        {
          "output_type": "stream",
          "text": [
            "\n",
            "\n",
            "\n"
          ],
          "name": "stdout"
        },
        {
          "output_type": "execute_result",
          "data": {
            "text/plain": [
              "array([0.        , 0.09080072, 0.1048061 , ..., 0.01982684, 0.01982616,\n",
              "       0.01982525])"
            ]
          },
          "metadata": {
            "tags": []
          },
          "execution_count": 59
        }
      ]
    },
    {
      "cell_type": "code",
      "metadata": {
        "id": "jJXA7Xca82d8"
      },
      "source": [
        "# # net = Image_EncoderDecoder_Attention(512, 512, 512,len(elementCodes),device)\n",
        "# net= torch.load(\"model_cross.pt\")\n"
      ],
      "execution_count": null,
      "outputs": []
    },
    {
      "cell_type": "markdown",
      "metadata": {
        "id": "xCs-GXZE9ocs"
      },
      "source": [
        "#Inference"
      ]
    },
    {
      "cell_type": "code",
      "metadata": {
        "id": "-j5A8bEtLiMI"
      },
      "source": [
        "def inference(imgs ,inchiLabels, model, device):\n",
        "    model = model.to(device)\n",
        "    model.eval()   \n",
        "    targets = inchiLabels[:,1:].long()\n",
        "\n",
        "    truecap =''\n",
        "    for j,tg in enumerate(targets.view(-1)):           \n",
        "      if elementCodes[tg] =='eop':   \n",
        "        truecap+='\\n'               \n",
        "      elif  elementCodes[tg] !='-pad-':\n",
        "         truecap +=elementCodes[tg] \n",
        "\n",
        "\n",
        "    print('True captions\\n',truecap)\n",
        "\n",
        "    # imgs, inchiLabels,inchilength = dataload(train_dataset,batch_size)    \n",
        "\n",
        "    with torch.no_grad(): \n",
        "        \n",
        "        op= model.predict(input=imgs,device=device)       \n",
        "\n",
        "        caption=''\n",
        "\n",
        "        for index, output in enumerate(op.view(-1, len(elementCodes))):         \n",
        "          \n",
        "          predicted_word_idx = torch.argmax(output)\n",
        "\n",
        "          if (elementCodes[predicted_word_idx] =='eop'):\n",
        "            # print(caption)  \n",
        "            caption+='\\n'\n",
        "          elif (elementCodes[predicted_word_idx] !='-pad-'):\n",
        "            caption +=elementCodes[predicted_word_idx]\n",
        "          # print(elementCodes[predicted_word_idx])\n",
        "        print('Predicted captions\\n',caption)\n",
        "\n",
        "    return caption"
      ],
      "execution_count": null,
      "outputs": []
    },
    {
      "cell_type": "code",
      "metadata": {
        "id": "-z3MsyguMGPA"
      },
      "source": [
        "imgs,inchiLabels,_ = dataload(train_dataset,8)"
      ],
      "execution_count": null,
      "outputs": []
    },
    {
      "cell_type": "code",
      "metadata": {
        "id": "P6SXe9n5L4R8",
        "colab": {
          "base_uri": "https://localhost:8080/"
        },
        "outputId": "5a3b855f-429f-4362-996f-e3ab455bd9d8"
      },
      "source": [
        "text = inference(imgs,inchiLabels,net,device)"
      ],
      "execution_count": null,
      "outputs": [
        {
          "output_type": "stream",
          "text": [
            "True captions\n",
            " C19H30N2O3/c1-16-4-5-18(24-16)12-21-8-9-22-15-19(14-21)10-17(13-23-19)11-20-6-2-3-7-20/h4-5,17H,2-3,6-15H2,1H3/t17-,19-/m1/s\n",
            "C13H17N3O/c1-2-17-10-4-8-16-9-7-15-13(16)12-5-3-6-14-11-12/h3,5-7,9,11H,2,4,8,10H2,1H\n",
            "C43H34N2/c1-31-15-23-36(24-16-31)44(37-25-17-33(18-26-37)32-9-3-2-4-10-32)38-27-19-34(20-28-38)35-21-29-39(30-22-35)45-42-13-7-5-11-40(42)41-12-6-8-14-43(41)45/h3,5-30H,2,4H2,1H\n",
            "C16H21NO4/c1-2-19-16(18)11-17-7-3-4-13(17)12-5-6-14-15(10-12)21-9-8-20-14/h5-6,10,13H,2-4,7-9,11H2,1H\n",
            "C15H19Br2N3/c1-4-11-8-12(16)6-7-13(11)18-9-14-15(17)10(3)19-20(14)5-2/h6-8,18H,4-5,9H2,1-3H\n",
            "C18H22N2O5/c1-24-14-7-3-11(9-15(14)25-2)4-8-17(22)20(12-5-6-12)13-10-16(21)19-18(13)23/h3,7,9,12-13H,4-6,8,10H2,1-2H3,(H,19,21,23)/t13-/m1/s\n",
            "C19H24N2O2S/c1-2-15-3-5-16(6-4-15)7-8-19(23)21-18-13-17(9-10-20-18)14-24-12-11-22/h3-6,9-10,13,22H,2,7-8,11-12,14H2,1H3,(H,20,21,23\n",
            "C12H7NO2S/c13-7-9-1-3-11(4-2-9)15-12(14)10-5-6-16-8-10/h1-6,8\n",
            "\n",
            "Predicted captions\n",
            " C17H21N3O2/c1-13-7-8-15(11-14)19-9-5-3-2-4-6-12(10-13)18(20)21-16(22)17(23)24/h3-8,11-12,15H,9-10H2,1-2H3,(H,20,21\n",
            "C13H16N2O/c1-9-11(12-2)13-8-14-5-3-4-6-7-15-10/h3-4,7,9,11H,6-8,10H2,1-2H\n",
            "C26H33N3O5S/c1-2-3-4-5-6-7-8-9-11-13-15-16-18-23(28)29-21-22-24(27)25-17-12-14-26(28)30(33)34-29-27(32)33-20-10-8-19(27)28/h4-8,11-12,15,16,23H,10-13,17H2,1-3H3,(H,24,28)/t13-/m0/s\n",
            "C13H16N2O3/c1-9-3-4-11(12)13-8-14-9-15-10-5-2-6-13(11)16/h3-4,7-8,11H,6-9H2,1-2H3,(H,16,17\n",
            "C13H16N2O/c1-9-11(12-5-2-4-8-13)14-10-15-3-6-16/h3-4,7-8,11H,6-9H2,1-2H3,(H,16,17\n",
            "C13H16N2O3/c1-9-3-4-11(12)13-5-6-8-14-9-7-10(2)16-15-13/h4-5,8,11H,6-9H2,1-3H3,(H,16,17\n",
            "C13H16N2O3/c1-9-11(2)10-12(13)14-8-15-5-3-4-6-7-16-11/h3-4,7,9,11H,6-8H2,1-2H3,(H,16,17\n",
            "C9H12N2O/c1-2-3-5-13-6-4-7-8(11)12-9-7-10-8/h3-5,7H,6H2,1-2H3,(H,12,13\n",
            "\n"
          ],
          "name": "stdout"
        }
      ]
    },
    {
      "cell_type": "code",
      "metadata": {
        "id": "REbmMWUvuwj1"
      },
      "source": [
        "# for param_tensor in net.state_dict():\n",
        "#     print(param_tensor, \"\\t\", net.state_dict()[param_tensor].size())"
      ],
      "execution_count": null,
      "outputs": []
    },
    {
      "cell_type": "markdown",
      "metadata": {
        "id": "-kyIpH9uOl6c"
      },
      "source": [
        "#To-Do\n",
        "\n",
        ">Pre-process image data for better clarity.\n",
        "\n",
        ">Data parallelism ?\n",
        "\n",
        ">Try LSTM for better predictions.\n",
        "\n",
        ">Compute accuracy of the model.\n",
        "\n"
      ]
    },
    {
      "cell_type": "code",
      "metadata": {
        "colab": {
          "base_uri": "https://localhost:8080/"
        },
        "id": "40KCbcCJHCf4",
        "outputId": "ed8f01f2-a976-48db-db3b-aa3f14e8ce3a"
      },
      "source": [
        "import gc\n",
        "\n",
        "# del net\n",
        "gc.collect()"
      ],
      "execution_count": null,
      "outputs": [
        {
          "output_type": "execute_result",
          "data": {
            "text/plain": [
              "2153"
            ]
          },
          "metadata": {
            "tags": []
          },
          "execution_count": 57
        }
      ]
    }
  ]
}